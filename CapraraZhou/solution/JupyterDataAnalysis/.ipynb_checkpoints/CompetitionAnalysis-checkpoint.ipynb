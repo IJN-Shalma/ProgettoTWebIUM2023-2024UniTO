{
 "cells": [
  {
   "cell_type": "code",
   "execution_count": 4,
   "id": "initial_id",
   "metadata": {
    "collapsed": true,
    "ExecuteTime": {
     "end_time": "2024-01-11T13:06:59.987915500Z",
     "start_time": "2024-01-11T13:06:59.570176900Z"
    }
   },
   "outputs": [
    {
     "data": {
      "text/plain": "                           _id  game_id competition_id  season         round  \\\n0     65789685e2ebee12cbe05490  4103597            IT1    2023  13. Matchday   \n1     65789686e2ebee12cbe0ac9d  4103593            IT1    2023  13. Matchday   \n2     65789684e2ebee12cbdfe719  4103600            IT1    2023  13. Matchday   \n3     65789684e2ebee12cbe00bcf  4103598            IT1    2023  13. Matchday   \n4     65789686e2ebee12cbe08073  4103596            IT1    2023  13. Matchday   \n...                        ...      ...            ...     ...           ...   \n4305  65789685e2ebee12cbe046bd  2251272            IT1    2012   1. Matchday   \n4306  65789685e2ebee12cbe0553f  2251263            IT1    2012   1. Matchday   \n4307  65789685e2ebee12cbe05540  2251268            IT1    2012   1. Matchday   \n4308  65789684e2ebee12cbe0048c  2251265            IT1    2012   1. Matchday   \n4309  65789685e2ebee12cbe065e4  2251267            IT1    2012   1. Matchday   \n\n                          date  home_club_id  away_club_id  home_club_goals  \\\n0     2023-11-27T00:00:00.000Z           276          1005                2   \n1     2023-11-27T00:00:00.000Z          1025           416                2   \n2     2023-11-26T00:00:00.000Z            12           410                3   \n3     2023-11-26T00:00:00.000Z           506            46                1   \n4     2023-11-26T00:00:00.000Z          8970           252                2   \n...                        ...           ...           ...              ...   \n4305  2012-08-26T00:00:00.000Z           458          6195                0   \n4306  2012-08-26T00:00:00.000Z           800           398                0   \n4307  2012-08-26T00:00:00.000Z            12          1627                2   \n4308  2012-08-25T00:00:00.000Z           430           410                2   \n4309  2012-08-25T00:00:00.000Z           506           130                2   \n\n      away_club_goals  ...                               stadium  attendance  \\\n0                   2  ...                 Marcantonio Bentegodi       16730   \n1                   0  ...                Stadio Renato Dall’Ara       20705   \n2                   1  ...                      Olimpico di Roma       61015   \n3                   1  ...                       Allianz Stadium       41507   \n4                   1  ...                         Benito Stirpe       14018   \n...               ...  ...                                   ...         ...   \n4305                3  ...  Comunale Renzo Barbera \"La Favorita\"       20736   \n4306                1  ...                        Gewiss Stadium       10000   \n4307                2  ...                      Olimpico di Roma       45000   \n4308                1  ...                       Artemio Franchi       24601   \n4309                0  ...                       Allianz Stadium       37508   \n\n                     referee  \\\n0          Federico La Penna   \n1             Andrea Colombo   \n2               Luca Massimi   \n3                Marco Guida   \n4              Luca Zufferli   \n...                      ...   \n4305          Daniele Orsato   \n4306        Andrea Gervasoni   \n4307         Andrea De Marco   \n4308  Paolo Silvio Mazzoleni   \n4309            Andrea Romeo   \n\n                                                    url home_club_formation  \\\n0     https://www.transfermarkt.co.uk/hellas-verona_...             4-2-3-1   \n1     https://www.transfermarkt.co.uk/bologna-fc-190...             4-1-4-1   \n2     https://www.transfermarkt.co.uk/as-roma_udines...          3-5-2 flat   \n3     https://www.transfermarkt.co.uk/juventus-fc_in...          3-5-2 flat   \n4     https://www.transfermarkt.co.uk/frosinone-calc...             4-2-3-1   \n...                                                 ...                 ...   \n4305  https://www.transfermarkt.co.uk/us-palermo_ssc...                       \n4306  https://www.transfermarkt.co.uk/atalanta-bc_ss...                       \n4307  https://www.transfermarkt.co.uk/as-roma_calcio...                       \n4308  https://www.transfermarkt.co.uk/acf-fiorentina...                       \n4309  https://www.transfermarkt.co.uk/juventus-fc_pa...                       \n\n      away_club_formation                     home_club_name  \\\n0                 4-3-2-1        Verona Hellas Football Club   \n1                 3-4-1-2         Bologna Football Club 1909   \n2              3-5-2 flat         Associazione Sportiva Roma   \n3              3-5-2 flat             Juventus Football Club   \n4              3-5-2 flat            Frosinone Calcio S.r.l.   \n...                   ...                                ...   \n4305                                              Palermo FC   \n4306                       Atalanta Bergamasca Calcio S.p.a.   \n4307                              Associazione Sportiva Roma   \n4308                          Associazione Calcio Fiorentina   \n4309                                  Juventus Football Club   \n\n                                  away_club_name aggregate competition_type  \n0                          Unione Sportiva Lecce       2:2  domestic_league  \n1                                  Torino Calcio       2:0  domestic_league  \n2                                 Udinese Calcio       3:1  domestic_league  \n3     Football Club Internazionale Milano S.p.A.       1:1  domestic_league  \n4                Genoa Cricket and Football Club       2:1  domestic_league  \n...                                          ...       ...              ...  \n4305              Società Sportiva Calcio Napoli       0:3  domestic_league  \n4306               Società Sportiva Lazio S.p.A.       0:1  domestic_league  \n4307                                  Catania FC       2:2  domestic_league  \n4308                              Udinese Calcio       2:1  domestic_league  \n4309                           Parma Calcio 1913       2:0  domestic_league  \n\n[4310 rows x 24 columns]",
      "text/html": "<div>\n<style scoped>\n    .dataframe tbody tr th:only-of-type {\n        vertical-align: middle;\n    }\n\n    .dataframe tbody tr th {\n        vertical-align: top;\n    }\n\n    .dataframe thead th {\n        text-align: right;\n    }\n</style>\n<table border=\"1\" class=\"dataframe\">\n  <thead>\n    <tr style=\"text-align: right;\">\n      <th></th>\n      <th>_id</th>\n      <th>game_id</th>\n      <th>competition_id</th>\n      <th>season</th>\n      <th>round</th>\n      <th>date</th>\n      <th>home_club_id</th>\n      <th>away_club_id</th>\n      <th>home_club_goals</th>\n      <th>away_club_goals</th>\n      <th>...</th>\n      <th>stadium</th>\n      <th>attendance</th>\n      <th>referee</th>\n      <th>url</th>\n      <th>home_club_formation</th>\n      <th>away_club_formation</th>\n      <th>home_club_name</th>\n      <th>away_club_name</th>\n      <th>aggregate</th>\n      <th>competition_type</th>\n    </tr>\n  </thead>\n  <tbody>\n    <tr>\n      <th>0</th>\n      <td>65789685e2ebee12cbe05490</td>\n      <td>4103597</td>\n      <td>IT1</td>\n      <td>2023</td>\n      <td>13. Matchday</td>\n      <td>2023-11-27T00:00:00.000Z</td>\n      <td>276</td>\n      <td>1005</td>\n      <td>2</td>\n      <td>2</td>\n      <td>...</td>\n      <td>Marcantonio Bentegodi</td>\n      <td>16730</td>\n      <td>Federico La Penna</td>\n      <td>https://www.transfermarkt.co.uk/hellas-verona_...</td>\n      <td>4-2-3-1</td>\n      <td>4-3-2-1</td>\n      <td>Verona Hellas Football Club</td>\n      <td>Unione Sportiva Lecce</td>\n      <td>2:2</td>\n      <td>domestic_league</td>\n    </tr>\n    <tr>\n      <th>1</th>\n      <td>65789686e2ebee12cbe0ac9d</td>\n      <td>4103593</td>\n      <td>IT1</td>\n      <td>2023</td>\n      <td>13. Matchday</td>\n      <td>2023-11-27T00:00:00.000Z</td>\n      <td>1025</td>\n      <td>416</td>\n      <td>2</td>\n      <td>0</td>\n      <td>...</td>\n      <td>Stadio Renato Dall’Ara</td>\n      <td>20705</td>\n      <td>Andrea Colombo</td>\n      <td>https://www.transfermarkt.co.uk/bologna-fc-190...</td>\n      <td>4-1-4-1</td>\n      <td>3-4-1-2</td>\n      <td>Bologna Football Club 1909</td>\n      <td>Torino Calcio</td>\n      <td>2:0</td>\n      <td>domestic_league</td>\n    </tr>\n    <tr>\n      <th>2</th>\n      <td>65789684e2ebee12cbdfe719</td>\n      <td>4103600</td>\n      <td>IT1</td>\n      <td>2023</td>\n      <td>13. Matchday</td>\n      <td>2023-11-26T00:00:00.000Z</td>\n      <td>12</td>\n      <td>410</td>\n      <td>3</td>\n      <td>1</td>\n      <td>...</td>\n      <td>Olimpico di Roma</td>\n      <td>61015</td>\n      <td>Luca Massimi</td>\n      <td>https://www.transfermarkt.co.uk/as-roma_udines...</td>\n      <td>3-5-2 flat</td>\n      <td>3-5-2 flat</td>\n      <td>Associazione Sportiva Roma</td>\n      <td>Udinese Calcio</td>\n      <td>3:1</td>\n      <td>domestic_league</td>\n    </tr>\n    <tr>\n      <th>3</th>\n      <td>65789684e2ebee12cbe00bcf</td>\n      <td>4103598</td>\n      <td>IT1</td>\n      <td>2023</td>\n      <td>13. Matchday</td>\n      <td>2023-11-26T00:00:00.000Z</td>\n      <td>506</td>\n      <td>46</td>\n      <td>1</td>\n      <td>1</td>\n      <td>...</td>\n      <td>Allianz Stadium</td>\n      <td>41507</td>\n      <td>Marco Guida</td>\n      <td>https://www.transfermarkt.co.uk/juventus-fc_in...</td>\n      <td>3-5-2 flat</td>\n      <td>3-5-2 flat</td>\n      <td>Juventus Football Club</td>\n      <td>Football Club Internazionale Milano S.p.A.</td>\n      <td>1:1</td>\n      <td>domestic_league</td>\n    </tr>\n    <tr>\n      <th>4</th>\n      <td>65789686e2ebee12cbe08073</td>\n      <td>4103596</td>\n      <td>IT1</td>\n      <td>2023</td>\n      <td>13. Matchday</td>\n      <td>2023-11-26T00:00:00.000Z</td>\n      <td>8970</td>\n      <td>252</td>\n      <td>2</td>\n      <td>1</td>\n      <td>...</td>\n      <td>Benito Stirpe</td>\n      <td>14018</td>\n      <td>Luca Zufferli</td>\n      <td>https://www.transfermarkt.co.uk/frosinone-calc...</td>\n      <td>4-2-3-1</td>\n      <td>3-5-2 flat</td>\n      <td>Frosinone Calcio S.r.l.</td>\n      <td>Genoa Cricket and Football Club</td>\n      <td>2:1</td>\n      <td>domestic_league</td>\n    </tr>\n    <tr>\n      <th>...</th>\n      <td>...</td>\n      <td>...</td>\n      <td>...</td>\n      <td>...</td>\n      <td>...</td>\n      <td>...</td>\n      <td>...</td>\n      <td>...</td>\n      <td>...</td>\n      <td>...</td>\n      <td>...</td>\n      <td>...</td>\n      <td>...</td>\n      <td>...</td>\n      <td>...</td>\n      <td>...</td>\n      <td>...</td>\n      <td>...</td>\n      <td>...</td>\n      <td>...</td>\n      <td>...</td>\n    </tr>\n    <tr>\n      <th>4305</th>\n      <td>65789685e2ebee12cbe046bd</td>\n      <td>2251272</td>\n      <td>IT1</td>\n      <td>2012</td>\n      <td>1. Matchday</td>\n      <td>2012-08-26T00:00:00.000Z</td>\n      <td>458</td>\n      <td>6195</td>\n      <td>0</td>\n      <td>3</td>\n      <td>...</td>\n      <td>Comunale Renzo Barbera \"La Favorita\"</td>\n      <td>20736</td>\n      <td>Daniele Orsato</td>\n      <td>https://www.transfermarkt.co.uk/us-palermo_ssc...</td>\n      <td></td>\n      <td></td>\n      <td>Palermo FC</td>\n      <td>Società Sportiva Calcio Napoli</td>\n      <td>0:3</td>\n      <td>domestic_league</td>\n    </tr>\n    <tr>\n      <th>4306</th>\n      <td>65789685e2ebee12cbe0553f</td>\n      <td>2251263</td>\n      <td>IT1</td>\n      <td>2012</td>\n      <td>1. Matchday</td>\n      <td>2012-08-26T00:00:00.000Z</td>\n      <td>800</td>\n      <td>398</td>\n      <td>0</td>\n      <td>1</td>\n      <td>...</td>\n      <td>Gewiss Stadium</td>\n      <td>10000</td>\n      <td>Andrea Gervasoni</td>\n      <td>https://www.transfermarkt.co.uk/atalanta-bc_ss...</td>\n      <td></td>\n      <td></td>\n      <td>Atalanta Bergamasca Calcio S.p.a.</td>\n      <td>Società Sportiva Lazio S.p.A.</td>\n      <td>0:1</td>\n      <td>domestic_league</td>\n    </tr>\n    <tr>\n      <th>4307</th>\n      <td>65789685e2ebee12cbe05540</td>\n      <td>2251268</td>\n      <td>IT1</td>\n      <td>2012</td>\n      <td>1. Matchday</td>\n      <td>2012-08-26T00:00:00.000Z</td>\n      <td>12</td>\n      <td>1627</td>\n      <td>2</td>\n      <td>2</td>\n      <td>...</td>\n      <td>Olimpico di Roma</td>\n      <td>45000</td>\n      <td>Andrea De Marco</td>\n      <td>https://www.transfermarkt.co.uk/as-roma_calcio...</td>\n      <td></td>\n      <td></td>\n      <td>Associazione Sportiva Roma</td>\n      <td>Catania FC</td>\n      <td>2:2</td>\n      <td>domestic_league</td>\n    </tr>\n    <tr>\n      <th>4308</th>\n      <td>65789684e2ebee12cbe0048c</td>\n      <td>2251265</td>\n      <td>IT1</td>\n      <td>2012</td>\n      <td>1. Matchday</td>\n      <td>2012-08-25T00:00:00.000Z</td>\n      <td>430</td>\n      <td>410</td>\n      <td>2</td>\n      <td>1</td>\n      <td>...</td>\n      <td>Artemio Franchi</td>\n      <td>24601</td>\n      <td>Paolo Silvio Mazzoleni</td>\n      <td>https://www.transfermarkt.co.uk/acf-fiorentina...</td>\n      <td></td>\n      <td></td>\n      <td>Associazione Calcio Fiorentina</td>\n      <td>Udinese Calcio</td>\n      <td>2:1</td>\n      <td>domestic_league</td>\n    </tr>\n    <tr>\n      <th>4309</th>\n      <td>65789685e2ebee12cbe065e4</td>\n      <td>2251267</td>\n      <td>IT1</td>\n      <td>2012</td>\n      <td>1. Matchday</td>\n      <td>2012-08-25T00:00:00.000Z</td>\n      <td>506</td>\n      <td>130</td>\n      <td>2</td>\n      <td>0</td>\n      <td>...</td>\n      <td>Allianz Stadium</td>\n      <td>37508</td>\n      <td>Andrea Romeo</td>\n      <td>https://www.transfermarkt.co.uk/juventus-fc_pa...</td>\n      <td></td>\n      <td></td>\n      <td>Juventus Football Club</td>\n      <td>Parma Calcio 1913</td>\n      <td>2:0</td>\n      <td>domestic_league</td>\n    </tr>\n  </tbody>\n</table>\n<p>4310 rows × 24 columns</p>\n</div>"
     },
     "execution_count": 4,
     "metadata": {},
     "output_type": "execute_result"
    }
   ],
   "source": [
    "import requests\n",
    "import pandas as pd\n",
    "import geopandas as gpd\n",
    "import seaborn as sns\n",
    "import matplotlib.pyplot as plt\n",
    "\n",
    "competitionID='IT1'\n",
    "\n",
    "response = requests.get(f'http://localhost:8080/mongo/games/competition/{competitionID}').json()\n",
    "games_df = pd.DataFrame(response)\n",
    "\n",
    "games_df"
   ]
  },
  {
   "cell_type": "code",
   "execution_count": 8,
   "outputs": [
    {
     "data": {
      "text/plain": "[5,\n 12,\n 19,\n 46,\n 130,\n 252,\n 276,\n 380,\n 398,\n 410,\n 416,\n 430,\n 458,\n 506,\n 607,\n 749,\n 800,\n 862,\n 1005,\n 1025,\n 1038,\n 1210,\n 1387,\n 1390,\n 1429,\n 1627,\n 2239,\n 2722,\n 2919,\n 2921,\n 3522,\n 4083,\n 4102,\n 4171,\n 6195,\n 6574,\n 8970]"
     },
     "execution_count": 8,
     "metadata": {},
     "output_type": "execute_result"
    }
   ],
   "source": [
    "clubs = requests.get(f'http://localhost:8080/mongo/games/competition/{competitionID}/clubs').json()\n",
    "clubs"
   ],
   "metadata": {
    "collapsed": false,
    "ExecuteTime": {
     "end_time": "2024-01-11T13:12:17.556689400Z",
     "start_time": "2024-01-11T13:12:17.476451300Z"
    }
   },
   "id": "ce0b818d6fb89ab"
  },
  {
   "cell_type": "code",
   "execution_count": 17,
   "outputs": [
    {
     "name": "stderr",
     "output_type": "stream",
     "text": [
      "IOPub data rate exceeded.\n",
      "The Jupyter server will temporarily stop sending output\n",
      "to the client in order to avoid crashing it.\n",
      "To change this limit, set the config variable\n",
      "`--ServerApp.iopub_data_rate_limit`.\n",
      "\n",
      "Current values:\n",
      "ServerApp.iopub_data_rate_limit=1000000.0 (bytes/sec)\n",
      "ServerApp.rate_limit_window=3.0 (secs)\n",
      "\n"
     ]
    }
   ],
   "source": [
    "data = []\n",
    "for club in clubs:\n",
    "    response = requests.get(f'http://localhost:8080/mongo/game_events/club/{club}').json()\n",
    "    data.append(response)\n",
    "    \n",
    "print(data)"
   ],
   "metadata": {
    "collapsed": false,
    "ExecuteTime": {
     "end_time": "2024-01-11T13:23:32.780714900Z",
     "start_time": "2024-01-11T13:23:26.586725800Z"
    }
   },
   "id": "dc34cba4289320fa"
  },
  {
   "cell_type": "markdown",
   "source": [
    "# Competition match events distribution heatmap"
   ],
   "metadata": {
    "collapsed": false
   },
   "id": "ee503bc20c289d12"
  },
  {
   "cell_type": "code",
   "execution_count": null,
   "outputs": [],
   "source": [],
   "metadata": {
    "collapsed": false,
    "ExecuteTime": {
     "start_time": "2024-01-09T15:18:35.733503400Z"
    }
   },
   "id": "dccdfd6ac55f1cb9"
  },
  {
   "cell_type": "markdown",
   "source": [
    "# Home club and away club average goals"
   ],
   "metadata": {
    "collapsed": false
   },
   "id": "6c4200f2ccb6c9c9"
  },
  {
   "cell_type": "code",
   "execution_count": null,
   "outputs": [],
   "source": [],
   "metadata": {
    "collapsed": false,
    "ExecuteTime": {
     "start_time": "2024-01-09T15:18:35.735007700Z"
    }
   },
   "id": "980d154308e9eac"
  },
  {
   "cell_type": "markdown",
   "source": [
    "# Home club and away club win rate"
   ],
   "metadata": {
    "collapsed": false
   },
   "id": "8e7449397d15c3a9"
  },
  {
   "cell_type": "code",
   "execution_count": null,
   "outputs": [],
   "source": [],
   "metadata": {
    "collapsed": false,
    "ExecuteTime": {
     "start_time": "2024-01-09T15:18:35.736014200Z"
    }
   },
   "id": "d790baa22df6328"
  },
  {
   "cell_type": "markdown",
   "source": [
    "# Competition evolution"
   ],
   "metadata": {
    "collapsed": false
   },
   "id": "b4a1df78c1978af5"
  },
  {
   "cell_type": "markdown",
   "source": [],
   "metadata": {
    "collapsed": false
   },
   "id": "4c2698ca991d7b84"
  }
 ],
 "metadata": {
  "kernelspec": {
   "display_name": "Python 3",
   "language": "python",
   "name": "python3"
  },
  "language_info": {
   "codemirror_mode": {
    "name": "ipython",
    "version": 2
   },
   "file_extension": ".py",
   "mimetype": "text/x-python",
   "name": "python",
   "nbconvert_exporter": "python",
   "pygments_lexer": "ipython2",
   "version": "2.7.6"
  }
 },
 "nbformat": 4,
 "nbformat_minor": 5
}
